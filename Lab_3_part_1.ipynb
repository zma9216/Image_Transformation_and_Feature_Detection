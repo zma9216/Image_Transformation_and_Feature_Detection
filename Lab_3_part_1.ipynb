{
 "nbformat": 4,
 "nbformat_minor": 0,
 "metadata": {
  "colab": {
   "name": "Lab_3_part_1.ipynb",
   "provenance": [],
   "collapsed_sections": []
  },
  "kernelspec": {
   "name": "python3",
   "language": "python",
   "display_name": "Python 3"
  }
 },
 "cells": [
  {
   "cell_type": "code",
   "execution_count": null,
   "outputs": [],
   "source": [
    "import numpy as np\n",
    "import math\n",
    "from matplotlib import pyplot as plt\n",
    "from skimage import io, util\n",
    "import os\n",
    "\n",
    "os.chdir(os.path.dirname(__file__))\n"
   ],
   "metadata": {
    "collapsed": false,
    "pycharm": {
     "name": "#%%\n",
     "is_executing": true
    }
   }
  },
  {
   "cell_type": "code",
   "execution_count": null,
   "outputs": [],
   "source": [
    "filename_Grayimage = 'PeppersBayerGray.bmp'\n",
    "filename_RGB = 'PeppersRGB.bmp'\n",
    "filename_gridB = 'gridB.bmp'\n",
    "filename_gridR = 'gridR.bmp'\n",
    "filename_gridG = 'gridG.bmp'"
   ],
   "metadata": {
    "collapsed": false,
    "pycharm": {
     "name": "#%%\n",
     "is_executing": true
    }
   }
  },
  {
   "cell_type": "code",
   "execution_count": null,
   "outputs": [],
   "source": [
    "# part I\n",
    "\n",
    "img = io.imread(filename_Grayimage, as_gray=True)\n",
    "og = io.imread(filename_RGB)\n",
    "\n",
    "h, w = img.shape\n",
    "\n",
    "# our final image will be a 3 dimensional image with 3 channels\n",
    "rgb = np.zeros((h, w, 3), np.uint8)\n",
    "\n",
    "# reconstruction of the green channel IG\n",
    "IG = np.copy(img) # copy the image into each channel\n",
    "\n",
    "for row in range(0, h, 4): # loop step is 4 since our mask size is 4.\n",
    "    for col in range(0, w, 4): # loop step is 4 since our mask size is 4.\n",
    "        \n",
    "        IG[row, col + 1] = (int(img[row, col]) + int(img[row, col + 2])) / 2 # B\n",
    "        IG[row, col + 3] = (int(img[row, col + 2]) + int(img[row + 1, col + 3])) / 2 # D\n",
    "\n",
    "        IG[row + 1, col] = (int(img[row, col]) + int(img[row + 2, col])) / 2 # E\n",
    "        IG[row + 1, col + 2] = (int(img[row + 1, col + 1]) + int(img[row + 1, col + 3]) + int(img[row, col + 2]) + int(img[row + 2, col + 2])) / 4 # G\n",
    "\n",
    "        IG[row + 2, col + 1] = (int(img[row + 2, col]) + int(img[row + 2, col + 2]) + int(img[row + 1, col + 1]) + int(img[row + 3, col + 1])) / 4 # J\n",
    "        IG[row + 2, col + 3] = (int(img[row + 1, col + 3]) + int(img[row + 3, col + 3])) / 2 # L\n",
    "\n",
    "        IG[row + 3, col] = (int(img[row + 2, col]) + int(img[row + 3, col + 1])) / 2 # M\n",
    "        IG[row + 3, col + 2] = (int(img[row + 3, col + 1]) + int(img[row + 3, col + 3])) / 2 # O\n",
    "        \n",
    "\n",
    "# reconstruction of the red channel IR\n",
    "IR = np.copy(img)\n",
    "\n",
    "for row in range(0, h, 4): # loop step is 4 since our mask size is 4.\n",
    "    for col in range(0, w, 4): # loop step is 4 since our mask size is 4.\n",
    "\n",
    "        IR[row, col + 2] = (int(img[row, col + 1]) + int(img[row, col + 3])) / 2 # C\n",
    "        IR[row + 1, col + 1] = (int(img[row, col + 1]) + int(img[row + 2, col + 1])) / 2 # F\n",
    "        IR[row + 1, col + 2] = (int(img[row, col + 1]) + int(img[row, col + 3]) + int(img[row + 2, col + 1]) + int(img[row + 2, col + 3])) / 4 # G\n",
    "        IR[row, col + 2] = (int(img[row, col + 3]) + int(img[row + 2, col + 3])) / 2 # H\n",
    "        IR[row, col + 2] = (int(img[row + 2, col + 1]) + int(img[row + 2, col + 3])) / 2 # K\n",
    "        IR[:, col] = IR[:, col + 1]\n",
    "        IR[row + 3, :] = IR[row + 2, :]\n",
    "        \n",
    "# reconstruction of the blue channel IB\n",
    "IB = np.copy(img)\n",
    "\n",
    "for row in range(0, h, 4): # loop step is 4 since our mask size is 4.\n",
    "    for col in range(0, w, 4): # loop step is 4 since our mask size is 4.\n",
    "\n",
    "        IB[row + 1, col + 1] = (int(img[row + 1, col]) + int(img[row + 1, col + 2])) / 2 # F\n",
    "        IB[row + 2, col] = (int(img[row + 1, col]) + int(img[row + 3, col])) / 2 # I\n",
    "        IB[row + 1, col + 2] = (int(img[row + 1, col]) + int(img[row + 1, col + 2]) + int(img[row + 3, col]) + int(img[row + 3, col + 2])) / 4 # J\n",
    "        IB[row, col + 2] = (int(img[row + 1, col + 2]) + int(img[row + 3, col + 2])) / 2 # K\n",
    "        IB[row, col + 2] = (int(img[row + 3, col]) + int(img[row + 3, col + 2])) / 2 # N\n",
    "        IB[row, :] = IB[row + 1, :]\n",
    "        IB[:, col + 3] = IB[:, col + 2]\n",
    "\n",
    "# merge the channels\n",
    "rgb[:, :, 0] = IR\n",
    "rgb[:, :, 1] = IG\n",
    "rgb[:, :, 2] = IB\n",
    "\n",
    "diff = util.compare_images(og, rgb)\n",
    "\n",
    "fig, axes = plt.subplots(nrows=1, ncols=3, figsize=(20, 20))\n",
    "axes[0].imshow(og)\n",
    "axes[0].set_title(\"Original\")\n",
    "\n",
    "axes[1].imshow(rgb)\n",
    "axes[1].set_title(\"RGB\")\n",
    "\n",
    "axes[2].imshow(diff)\n",
    "axes[2].set_title(\"Diff\")\n",
    "\n",
    "plt.tight_layout()\n",
    "plt.show()"
   ],
   "metadata": {
    "collapsed": false,
    "pycharm": {
     "name": "#%%\n",
     "is_executing": true
    }
   }
  }
 ]
}